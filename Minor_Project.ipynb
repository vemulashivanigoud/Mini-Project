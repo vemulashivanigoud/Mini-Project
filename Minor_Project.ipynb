{
  "nbformat": 4,
  "nbformat_minor": 0,
  "metadata": {
    "colab": {
      "name": "Minor Project.ipynb",
      "provenance": [],
      "collapsed_sections": [],
      "include_colab_link": true
    },
    "kernelspec": {
      "name": "python3",
      "display_name": "Python 3"
    },
    "language_info": {
      "name": "python"
    }
  },
  "cells": [
    {
      "cell_type": "markdown",
      "metadata": {
        "id": "view-in-github",
        "colab_type": "text"
      },
      "source": [
        "<a href=\"https://colab.research.google.com/github/vemulashivanigoud/Mini-Project/blob/main/Minor_Project.ipynb\" target=\"_parent\"><img src=\"https://colab.research.google.com/assets/colab-badge.svg\" alt=\"Open In Colab\"/></a>"
      ]
    },
    {
      "cell_type": "code",
      "metadata": {
        "colab": {
          "base_uri": "https://localhost:8080/"
        },
        "id": "s7NDTMllLXZe",
        "outputId": "4f760db1-1d42-49b7-a615-20e3800cd754"
      },
      "source": [
        "!pip install ipython-autotime\n",
        "%load_ext autotime"
      ],
      "execution_count": 1,
      "outputs": [
        {
          "output_type": "stream",
          "text": [
            "Collecting ipython-autotime\n",
            "  Downloading https://files.pythonhosted.org/packages/b4/c9/b413a24f759641bc27ef98c144b590023c8038dfb8a3f09e713e9dff12c1/ipython_autotime-0.3.1-py2.py3-none-any.whl\n",
            "Requirement already satisfied: ipython in /usr/local/lib/python3.7/dist-packages (from ipython-autotime) (5.5.0)\n",
            "Requirement already satisfied: traitlets>=4.2 in /usr/local/lib/python3.7/dist-packages (from ipython->ipython-autotime) (5.0.5)\n",
            "Requirement already satisfied: prompt-toolkit<2.0.0,>=1.0.4 in /usr/local/lib/python3.7/dist-packages (from ipython->ipython-autotime) (1.0.18)\n",
            "Requirement already satisfied: setuptools>=18.5 in /usr/local/lib/python3.7/dist-packages (from ipython->ipython-autotime) (56.1.0)\n",
            "Requirement already satisfied: simplegeneric>0.8 in /usr/local/lib/python3.7/dist-packages (from ipython->ipython-autotime) (0.8.1)\n",
            "Requirement already satisfied: pickleshare in /usr/local/lib/python3.7/dist-packages (from ipython->ipython-autotime) (0.7.5)\n",
            "Requirement already satisfied: pexpect; sys_platform != \"win32\" in /usr/local/lib/python3.7/dist-packages (from ipython->ipython-autotime) (4.8.0)\n",
            "Requirement already satisfied: decorator in /usr/local/lib/python3.7/dist-packages (from ipython->ipython-autotime) (4.4.2)\n",
            "Requirement already satisfied: pygments in /usr/local/lib/python3.7/dist-packages (from ipython->ipython-autotime) (2.6.1)\n",
            "Requirement already satisfied: ipython-genutils in /usr/local/lib/python3.7/dist-packages (from traitlets>=4.2->ipython->ipython-autotime) (0.2.0)\n",
            "Requirement already satisfied: six>=1.9.0 in /usr/local/lib/python3.7/dist-packages (from prompt-toolkit<2.0.0,>=1.0.4->ipython->ipython-autotime) (1.15.0)\n",
            "Requirement already satisfied: wcwidth in /usr/local/lib/python3.7/dist-packages (from prompt-toolkit<2.0.0,>=1.0.4->ipython->ipython-autotime) (0.2.5)\n",
            "Requirement already satisfied: ptyprocess>=0.5 in /usr/local/lib/python3.7/dist-packages (from pexpect; sys_platform != \"win32\"->ipython->ipython-autotime) (0.7.0)\n",
            "Installing collected packages: ipython-autotime\n",
            "Successfully installed ipython-autotime-0.3.1\n",
            "time: 1.91 ms (started: 2021-05-22 17:09:36 +00:00)\n"
          ],
          "name": "stdout"
        }
      ]
    },
    {
      "cell_type": "code",
      "metadata": {
        "colab": {
          "base_uri": "https://localhost:8080/"
        },
        "id": "9Gu0GMAxuIVB",
        "outputId": "c6b2ca23-5de8-4857-b781-3adab0cd3d13"
      },
      "source": [
        "!pip install bing-image-downloader\n"
      ],
      "execution_count": 2,
      "outputs": [
        {
          "output_type": "stream",
          "text": [
            "Collecting bing-image-downloader\n",
            "  Downloading https://files.pythonhosted.org/packages/0d/bf/537a61030b84ae4cd5022d5c7b014fd9bc3ce7c02358919153a6658a61d3/bing_image_downloader-1.0.4-py3-none-any.whl\n",
            "Installing collected packages: bing-image-downloader\n",
            "Successfully installed bing-image-downloader-1.0.4\n",
            "time: 3.14 s (started: 2021-05-22 17:09:44 +00:00)\n"
          ],
          "name": "stdout"
        }
      ]
    },
    {
      "cell_type": "code",
      "metadata": {
        "colab": {
          "base_uri": "https://localhost:8080/"
        },
        "id": "PZbyIofvBZln",
        "outputId": "e05ef565-a74c-4eed-8597-31c8e8bebd6f"
      },
      "source": [
        "!mkdir images\n"
      ],
      "execution_count": 3,
      "outputs": [
        {
          "output_type": "stream",
          "text": [
            "time: 112 ms (started: 2021-05-22 17:09:50 +00:00)\n"
          ],
          "name": "stdout"
        }
      ]
    },
    {
      "cell_type": "code",
      "metadata": {
        "colab": {
          "base_uri": "https://localhost:8080/"
        },
        "id": "M_l8chkFBlIa",
        "outputId": "6adf9946-4e2b-4cd9-878f-71c9cca56591"
      },
      "source": [
        "from bing_image_downloader import downloader\n",
        "downloader.download(\"black panther animal\",limit=30,output_dir='images',\n",
        "                    adult_filter_off=True)"
      ],
      "execution_count": 4,
      "outputs": [
        {
          "output_type": "stream",
          "text": [
            "\n",
            "\n",
            "[!!]Indexing page: 1\n",
            "\n",
            "[%] Indexed 10 Images on Page 1.\n",
            "\n",
            "===============================================\n",
            "\n",
            "[%] Downloading Image #1 from http://luida.l.u.pic.centerblog.net/o/e6754900.jpg\n",
            "[%] File Downloaded !\n",
            "\n",
            "[%] Downloading Image #2 from https://www.gratistodo.com/wp-content/uploads/2017/02/Pantera-Negra-wallpapers-6-800x500.jpg\n",
            "[%] File Downloaded !\n",
            "\n",
            "[%] Downloading Image #3 from https://usercontent1.hubstatic.com/9744356.png\n",
            "[%] File Downloaded !\n",
            "\n",
            "[%] Downloading Image #4 from https://evolvetours.com/wp-content/uploads/2015/03/Black-Jaguar-Roar.jpg\n",
            "[%] File Downloaded !\n",
            "\n",
            "[%] Downloading Image #5 from https://c1.staticflickr.com/3/2131/2089529530_a6323573dc_b.jpg\n",
            "[%] File Downloaded !\n",
            "\n",
            "[%] Downloading Image #6 from http://1.bp.blogspot.com/_KhexNhBizxg/SeQNwmXMDVI/AAAAAAAAAHA/aitc8JnCUdY/s320/pantera+negra+coon+suu+bebee+paanteraa!.jpg\n",
            "[%] File Downloaded !\n",
            "\n",
            "[%] Downloading Image #7 from https://media.istockphoto.com/photos/majestic-cougar-isolated-on-black-picture-id482165933?k=6&amp;m=482165933&amp;s=170667a&amp;w=0&amp;h=G3w3XPkAWgxC3bWSZLvJWMddVvkr_91v3ybSPVo5mDg=\n",
            "[%] File Downloaded !\n",
            "\n",
            "[%] Downloading Image #8 from https://www.newshub.co.nz/home/world/2019/02/rare-black-panther-captured-on-camera-in-wild-for-first-time-in-100-years/_jcr_content/par/image.dynimg.1280.q75.jpg/v1550095050057/blac-panther-nick-pilford-140219.jpg\n",
            "[%] File Downloaded !\n",
            "\n",
            "[%] Downloading Image #9 from https://i.pinimg.com/736x/28/7c/5c/287c5ce64aebac88a03cef40b45cf13b--panther-cub-baby-panther.jpg\n",
            "[%] File Downloaded !\n",
            "\n",
            "[%] Downloading Image #10 from https://www.hdwallpapers.in/download/ursa_artwork-1920x1080.jpg\n",
            "[%] File Downloaded !\n",
            "\n",
            "\n",
            "\n",
            "[!!]Indexing page: 2\n",
            "\n",
            "[%] Indexed 10 Images on Page 2.\n",
            "\n",
            "===============================================\n",
            "\n",
            "[%] Downloading Image #11 from http://luida.l.u.pic.centerblog.net/o/e6754900.jpg\n",
            "[%] File Downloaded !\n",
            "\n",
            "[%] Downloading Image #12 from https://www.gratistodo.com/wp-content/uploads/2017/02/Pantera-Negra-wallpapers-6-800x500.jpg\n",
            "[%] File Downloaded !\n",
            "\n",
            "[%] Downloading Image #13 from https://usercontent1.hubstatic.com/9744356.png\n",
            "[%] File Downloaded !\n",
            "\n",
            "[%] Downloading Image #14 from https://evolvetours.com/wp-content/uploads/2015/03/Black-Jaguar-Roar.jpg\n",
            "[%] File Downloaded !\n",
            "\n",
            "[%] Downloading Image #15 from https://c1.staticflickr.com/3/2131/2089529530_a6323573dc_b.jpg\n",
            "[%] File Downloaded !\n",
            "\n",
            "[%] Downloading Image #16 from http://1.bp.blogspot.com/_KhexNhBizxg/SeQNwmXMDVI/AAAAAAAAAHA/aitc8JnCUdY/s320/pantera+negra+coon+suu+bebee+paanteraa!.jpg\n",
            "[%] File Downloaded !\n",
            "\n",
            "[%] Downloading Image #17 from https://media.istockphoto.com/photos/majestic-cougar-isolated-on-black-picture-id482165933?k=6&amp;m=482165933&amp;s=170667a&amp;w=0&amp;h=G3w3XPkAWgxC3bWSZLvJWMddVvkr_91v3ybSPVo5mDg=\n",
            "[%] File Downloaded !\n",
            "\n",
            "[%] Downloading Image #18 from https://www.newshub.co.nz/home/world/2019/02/rare-black-panther-captured-on-camera-in-wild-for-first-time-in-100-years/_jcr_content/par/image.dynimg.1280.q75.jpg/v1550095050057/blac-panther-nick-pilford-140219.jpg\n",
            "[%] File Downloaded !\n",
            "\n",
            "[%] Downloading Image #19 from https://i.pinimg.com/736x/28/7c/5c/287c5ce64aebac88a03cef40b45cf13b--panther-cub-baby-panther.jpg\n",
            "[%] File Downloaded !\n",
            "\n",
            "[%] Downloading Image #20 from https://www.hdwallpapers.in/download/ursa_artwork-1920x1080.jpg\n",
            "[%] File Downloaded !\n",
            "\n",
            "\n",
            "\n",
            "[!!]Indexing page: 3\n",
            "\n",
            "[%] Indexed 9 Images on Page 3.\n",
            "\n",
            "===============================================\n",
            "\n",
            "[%] Downloading Image #21 from https://www.gratistodo.com/wp-content/uploads/2017/02/Pantera-Negra-wallpapers-6-800x500.jpg\n",
            "[%] File Downloaded !\n",
            "\n",
            "[%] Downloading Image #22 from https://evolvetours.com/wp-content/uploads/2015/03/Black-Jaguar-Roar.jpg\n",
            "[%] File Downloaded !\n",
            "\n",
            "[%] Downloading Image #23 from http://1.bp.blogspot.com/_KhexNhBizxg/SeQNwmXMDVI/AAAAAAAAAHA/aitc8JnCUdY/s320/pantera+negra+coon+suu+bebee+paanteraa!.jpg\n",
            "[%] File Downloaded !\n",
            "\n",
            "[%] Downloading Image #24 from https://www.newshub.co.nz/home/world/2019/02/rare-black-panther-captured-on-camera-in-wild-for-first-time-in-100-years/_jcr_content/par/image.dynimg.1280.q75.jpg/v1550095050057/blac-panther-nick-pilford-140219.jpg\n",
            "[%] File Downloaded !\n",
            "\n",
            "[%] Downloading Image #25 from https://c1.staticflickr.com/3/2131/2089529530_a6323573dc_b.jpg\n",
            "[%] File Downloaded !\n",
            "\n",
            "[%] Downloading Image #26 from https://i.pinimg.com/736x/28/7c/5c/287c5ce64aebac88a03cef40b45cf13b--panther-cub-baby-panther.jpg\n",
            "[%] File Downloaded !\n",
            "\n",
            "[%] Downloading Image #27 from https://usercontent1.hubstatic.com/9744356.png\n",
            "[%] File Downloaded !\n",
            "\n",
            "[%] Downloading Image #28 from https://media.istockphoto.com/photos/majestic-cougar-isolated-on-black-picture-id482165933?k=6&amp;m=482165933&amp;s=170667a&amp;w=0&amp;h=G3w3XPkAWgxC3bWSZLvJWMddVvkr_91v3ybSPVo5mDg=\n",
            "[%] File Downloaded !\n",
            "\n",
            "[%] Downloading Image #29 from https://www.hdwallpapers.in/download/ursa_artwork-1920x1080.jpg\n",
            "[%] File Downloaded !\n",
            "\n",
            "\n",
            "\n",
            "[!!]Indexing page: 4\n",
            "\n",
            "[%] Indexed 8 Images on Page 4.\n",
            "\n",
            "===============================================\n",
            "\n",
            "[%] Downloading Image #30 from http://i.ytimg.com/vi/6przuR7ITfY/hqdefault.jpg\n",
            "[%] File Downloaded !\n",
            "\n",
            "\n",
            "\n",
            "[%] Done. Downloaded 30 images.\n",
            "\n",
            "===============================================\n",
            "\n",
            "time: 26 s (started: 2021-05-22 17:10:10 +00:00)\n"
          ],
          "name": "stdout"
        }
      ]
    },
    {
      "cell_type": "code",
      "metadata": {
        "colab": {
          "base_uri": "https://localhost:8080/"
        },
        "id": "Bm-ejfQmfMy_",
        "outputId": "d3965feb-7af6-459d-9621-82986e0bd944"
      },
      "source": [
        "downloader.download(\"pretty sunflower\",limit=30,output_dir='images',\n",
        "                    adult_filter_off=True)"
      ],
      "execution_count": 5,
      "outputs": [
        {
          "output_type": "stream",
          "text": [
            "\n",
            "\n",
            "[!!]Indexing page: 1\n",
            "\n",
            "[%] Indexed 10 Images on Page 1.\n",
            "\n",
            "===============================================\n",
            "\n",
            "[%] Downloading Image #1 from https://i.pinimg.com/736x/c6/1b/18/c61b1856ff76e6d82a43b7ed8d104b32.jpg\n",
            "[%] File Downloaded !\n",
            "\n",
            "[%] Downloading Image #2 from http://www.profilerehab.com/facebook_covers/flowers/artistic_sunflower_cover_73.jpg\n",
            "[%] File Downloaded !\n",
            "\n",
            "[%] Downloading Image #3 from http://ohbestdayever.com/wp-content/uploads/2017/12/diy-sunflower-wedding-centerpiece-ideas.jpg\n",
            "[%] File Downloaded !\n",
            "\n",
            "[%] Downloading Image #4 from http://www.inkme.tattoo/wp-content/uploads/2017/07/flower-tattoos-090217270902173.jpg\n",
            "[%] File Downloaded !\n",
            "\n",
            "[%] Downloading Image #5 from https://www.hdwallpapers.in/download/sunflowers_landscape-1920x1080.jpg\n",
            "[%] File Downloaded !\n",
            "\n",
            "[%] Downloading Image #6 from http://www.deerpearlflowers.com/wp-content/uploads/2015/09/rustic-wedding-cupcake-table.jpg\n",
            "[%] File Downloaded !\n",
            "\n",
            "[%] Downloading Image #7 from https://i.pinimg.com/736x/eb/e5/e6/ebe5e6be6d9b2af9875283c6b88e5f2e.jpg\n",
            "[%] File Downloaded !\n",
            "\n",
            "[%] Downloading Image #8 from https://cdn.wonderfuldiy.com/wp-content/uploads/2014/10/cupcake-idea-10.jpg\n",
            "[%] File Downloaded !\n",
            "\n",
            "[%] Downloading Image #9 from http://www.wohhwedding.com/wp-content/uploads/2016/05/Sunflower-Mason-Jar-Wedding-Decorations.jpg\n",
            "[%] File Downloaded !\n",
            "\n",
            "[%] Downloading Image #10 from https://emmalovesweddings.com/wp-content/uploads/2018/11/trending-bohemian-wedding-bouquet-with-proteas.jpg\n",
            "[%] File Downloaded !\n",
            "\n",
            "\n",
            "\n",
            "[!!]Indexing page: 2\n",
            "\n",
            "[%] Indexed 10 Images on Page 2.\n",
            "\n",
            "===============================================\n",
            "\n",
            "[%] Downloading Image #11 from https://c.stocksy.com/a/Ep5900/z9/2167348.jpg\n",
            "[%] File Downloaded !\n",
            "\n",
            "[%] Downloading Image #12 from http://www.prettydesigns.com/wp-content/uploads/2014/11/Beautiful-Arm-Daisy-Tattoo.jpg\n",
            "[%] File Downloaded !\n",
            "\n",
            "[%] Downloading Image #13 from https://papeldeparede.club/wp-content/uploads/2019/12/papeis-de-parede-de-girassol-6.jpg\n",
            "[%] File Downloaded !\n",
            "\n",
            "[%] Downloading Image #14 from https://www.deerpearlflowers.com/wp-content/uploads/2015/05/Yellow-sunflowers-and-tiffany-blue-flower-wedding-cengterpieces.jpg\n",
            "[%] File Downloaded !\n",
            "\n",
            "[%] Downloading Image #15 from https://i.pinimg.com/736x/a3/a5/be/a3a5beb681f1de55e8ceab769ba56161.jpg\n",
            "[%] File Downloaded !\n",
            "\n",
            "[%] Downloading Image #16 from http://clickwallpapers.com/1080p/pink-flower-wallpapers-desktop-background-On-Wallpaper-1080p-HD.jpg\n",
            "[!] Issue getting: http://clickwallpapers.com/1080p/pink-flower-wallpapers-desktop-background-On-Wallpaper-1080p-HD.jpg\n",
            "[!] Error:: HTTP Error 522: Origin Connection Time-out\n",
            "[%] Downloading Image #16 from https://78.media.tumblr.com/3dd485344f5d2ac789158bbc96beeaf2/tumblr_n69ab8G2Nu1s3vtb3o1_400.jpg\n",
            "[%] File Downloaded !\n",
            "\n",
            "[%] Downloading Image #17 from https://oddstuffmagazine.com/wp-content/uploads/2013/08/Feet-Tattoo-Designs-37-532x800.jpg\n",
            "[%] File Downloaded !\n",
            "\n",
            "[%] Downloading Image #18 from http://www.photofurl.com/wp-content/uploads/2008/07/desktop_white_and_orange_flower_wallpaper-1024x640.jpg\n",
            "[%] File Downloaded !\n",
            "\n",
            "[%] Downloading Image #19 from https://i.pinimg.com/736x/2e/f1/04/2ef104bb8bf2717c87a7423caf1a2088.jpg\n",
            "[%] File Downloaded !\n",
            "\n",
            "\n",
            "\n",
            "[!!]Indexing page: 3\n",
            "\n",
            "[%] Indexed 9 Images on Page 3.\n",
            "\n",
            "===============================================\n",
            "\n",
            "[%] Downloading Image #20 from https://papeldeparede.club/wp-content/uploads/2019/12/papeis-de-parede-de-girassol-6.jpg\n",
            "[%] File Downloaded !\n",
            "\n",
            "[%] Downloading Image #21 from https://www.deerpearlflowers.com/wp-content/uploads/2015/05/Yellow-sunflowers-and-tiffany-blue-flower-wedding-cengterpieces.jpg\n",
            "[%] File Downloaded !\n",
            "\n",
            "[%] Downloading Image #22 from https://i.pinimg.com/736x/a3/a5/be/a3a5beb681f1de55e8ceab769ba56161.jpg\n",
            "[%] File Downloaded !\n",
            "\n",
            "[%] Downloading Image #23 from http://clickwallpapers.com/1080p/pink-flower-wallpapers-desktop-background-On-Wallpaper-1080p-HD.jpg\n",
            "[!] Issue getting: http://clickwallpapers.com/1080p/pink-flower-wallpapers-desktop-background-On-Wallpaper-1080p-HD.jpg\n",
            "[!] Error:: HTTP Error 522: Origin Connection Time-out\n",
            "[%] Downloading Image #23 from https://78.media.tumblr.com/3dd485344f5d2ac789158bbc96beeaf2/tumblr_n69ab8G2Nu1s3vtb3o1_400.jpg\n",
            "[%] File Downloaded !\n",
            "\n",
            "[%] Downloading Image #24 from http://www.prettydesigns.com/wp-content/uploads/2014/11/Beautiful-Arm-Daisy-Tattoo.jpg\n",
            "[%] File Downloaded !\n",
            "\n",
            "[%] Downloading Image #25 from http://www.photofurl.com/wp-content/uploads/2008/07/desktop_white_and_orange_flower_wallpaper-1024x640.jpg\n",
            "[%] File Downloaded !\n",
            "\n",
            "[%] Downloading Image #26 from https://oddstuffmagazine.com/wp-content/uploads/2013/08/Feet-Tattoo-Designs-37-532x800.jpg\n",
            "[%] File Downloaded !\n",
            "\n",
            "[%] Downloading Image #27 from https://i.pinimg.com/736x/2e/f1/04/2ef104bb8bf2717c87a7423caf1a2088.jpg\n",
            "[%] File Downloaded !\n",
            "\n",
            "\n",
            "\n",
            "[!!]Indexing page: 4\n",
            "\n",
            "[%] Indexed 8 Images on Page 4.\n",
            "\n",
            "===============================================\n",
            "\n",
            "[%] Downloading Image #28 from http://www.inkme.tattoo/wp-content/uploads/2017/07/flower-tattoos-090217270902173.jpg\n",
            "[%] File Downloaded !\n",
            "\n",
            "[%] Downloading Image #29 from https://cdn.wonderfuldiy.com/wp-content/uploads/2014/10/cupcake-idea-10.jpg\n",
            "[%] File Downloaded !\n",
            "\n",
            "[%] Downloading Image #30 from https://i.pinimg.com/736x/eb/e5/e6/ebe5e6be6d9b2af9875283c6b88e5f2e.jpg\n",
            "[%] File Downloaded !\n",
            "\n",
            "\n",
            "\n",
            "[%] Done. Downloaded 30 images.\n",
            "\n",
            "===============================================\n",
            "\n",
            "time: 55.5 s (started: 2021-05-22 17:10:59 +00:00)\n"
          ],
          "name": "stdout"
        }
      ]
    },
    {
      "cell_type": "code",
      "metadata": {
        "colab": {
          "base_uri": "https://localhost:8080/"
        },
        "id": "spZU6mgHR6qb",
        "outputId": "2c5c7e9a-b89f-488d-e819-ad7b0f0c57e4"
      },
      "source": [
        "import os\n",
        "import numpy as np\n",
        "import pandas as pd\n",
        "import matplotlib.pyplot as plt\n",
        "from skimage.io import imread\n",
        "from skimage.transform import resize\n",
        "\n",
        "datadir = '/content/images'\n",
        "\n",
        "categories = ['black panther animal','pretty sunflower'] \n",
        "target = []\n",
        "images = []\n",
        "flat_data = []\n",
        "\n",
        "for category in categories:\n",
        "  class_num = categories.index(category)\n",
        "  path = os.path.join(datadir,category)\n",
        "  for img in os.listdir(path):\n",
        "    img_array = imread(os.path.join(path,img))\n",
        "\n",
        "    img_resize = resize(img_array,(150,150,3)) \n",
        "    flat_data.append(img_resize.flatten())\n",
        "    images.append(img_resize)\n",
        "    target.append(class_num)\n",
        "\n",
        "\n",
        "flat_data = np.array(flat_data)\n",
        "target = np.array(target)\n",
        "images = np.array(images)\n"
      ],
      "execution_count": 6,
      "outputs": [
        {
          "output_type": "stream",
          "text": [
            "/usr/local/lib/python3.7/dist-packages/PIL/TiffImagePlugin.py:788: UserWarning: Corrupt EXIF data.  Expecting to read 2 bytes but only got 0. \n",
            "  warnings.warn(str(msg))\n"
          ],
          "name": "stderr"
        },
        {
          "output_type": "stream",
          "text": [
            "time: 8.42 s (started: 2021-05-22 17:12:00 +00:00)\n"
          ],
          "name": "stdout"
        }
      ]
    },
    {
      "cell_type": "code",
      "metadata": {
        "colab": {
          "base_uri": "https://localhost:8080/"
        },
        "id": "ZuybslWsR6ho",
        "outputId": "e849e66c-71c0-476a-c225-70cc2f1c9d7c"
      },
      "source": [
        "flat_data[2]"
      ],
      "execution_count": 7,
      "outputs": [
        {
          "output_type": "execute_result",
          "data": {
            "text/plain": [
              "array([0.26994771, 0.34509804, 0.2745098 , ..., 0.26538562, 0.24413725,\n",
              "       0.21896732])"
            ]
          },
          "metadata": {
            "tags": []
          },
          "execution_count": 7
        },
        {
          "output_type": "stream",
          "text": [
            "time: 10 ms (started: 2021-05-22 17:12:29 +00:00)\n"
          ],
          "name": "stdout"
        }
      ]
    },
    {
      "cell_type": "code",
      "metadata": {
        "colab": {
          "base_uri": "https://localhost:8080/"
        },
        "id": "GoSQIE0XXFOP",
        "outputId": "badc62c0-9a53-484b-f2e8-4ce57f79bd6e"
      },
      "source": [
        "target"
      ],
      "execution_count": 8,
      "outputs": [
        {
          "output_type": "execute_result",
          "data": {
            "text/plain": [
              "array([0, 0, 0, 0, 0, 0, 0, 0, 0, 0, 0, 0, 0, 0, 0, 0, 0, 0, 0, 0, 0, 0,\n",
              "       0, 0, 0, 0, 0, 0, 0, 0, 1, 1, 1, 1, 1, 1, 1, 1, 1, 1, 1, 1, 1, 1,\n",
              "       1, 1, 1, 1, 1, 1, 1, 1, 1, 1, 1, 1, 1, 1, 1, 1])"
            ]
          },
          "metadata": {
            "tags": []
          },
          "execution_count": 8
        },
        {
          "output_type": "stream",
          "text": [
            "time: 5.17 ms (started: 2021-05-22 17:12:32 +00:00)\n"
          ],
          "name": "stdout"
        }
      ]
    },
    {
      "cell_type": "code",
      "metadata": {
        "colab": {
          "base_uri": "https://localhost:8080/",
          "height": 299
        },
        "id": "Gx_YH-8tXey7",
        "outputId": "396f8d83-e966-4815-c66b-665d39f81dc4"
      },
      "source": [
        "unique,count = np.unique(target,return_counts = True)\n",
        "plt.bar(categories,count)"
      ],
      "execution_count": 9,
      "outputs": [
        {
          "output_type": "execute_result",
          "data": {
            "text/plain": [
              "<BarContainer object of 2 artists>"
            ]
          },
          "metadata": {
            "tags": []
          },
          "execution_count": 9
        },
        {
          "output_type": "display_data",
          "data": {
            "image/png": "[encoded data removed]",
            "text/plain": [
              "<Figure size 432x288 with 1 Axes>"
            ]
          },
          "metadata": {
            "tags": [],
            "needs_background": "light"
          }
        },
        {
          "output_type": "stream",
          "text": [
            "time: 203 ms (started: 2021-05-22 17:12:38 +00:00)\n"
          ],
          "name": "stdout"
        }
      ]
    },
    {
      "cell_type": "code",
      "metadata": {
        "colab": {
          "base_uri": "https://localhost:8080/"
        },
        "id": "1KyLmSytX1or",
        "outputId": "04faf020-1cd3-4691-a0c0-4a48e13b4ab7"
      },
      "source": [
        "from sklearn.model_selection import train_test_split\n",
        "x_train,x_test,y_train,y_test = train_test_split(flat_data,target,\n",
        "                                test_size=0.3,random_state=106)"
      ],
      "execution_count": 10,
      "outputs": [
        {
          "output_type": "stream",
          "text": [
            "time: 209 ms (started: 2021-05-22 17:12:42 +00:00)\n"
          ],
          "name": "stdout"
        }
      ]
    },
    {
      "cell_type": "code",
      "metadata": {
        "colab": {
          "base_uri": "https://localhost:8080/"
        },
        "id": "8OeonXZ5Yf6F",
        "outputId": "537b101d-5a70-4db7-9222-1cf7141006e9"
      },
      "source": [
        "from sklearn.model_selection import GridSearchCV\n",
        "from sklearn import svm\n",
        "param_grid = [\n",
        "              {'C':[1,10,100,1000],'kernel':['linear']},\n",
        "               {'C':[1,10,100,1000],'gamma':[0.001,0.0001], 'kernel':['rbf']},\n",
        "]\n",
        "svc = svm.SVC(probability =True)\n",
        "clf = GridSearchCV(svc,param_grid)\n",
        "clf.fit(x_train,y_train)"
      ],
      "execution_count": 11,
      "outputs": [
        {
          "output_type": "execute_result",
          "data": {
            "text/plain": [
              "GridSearchCV(cv=None, error_score=nan,\n",
              "             estimator=SVC(C=1.0, break_ties=False, cache_size=200,\n",
              "                           class_weight=None, coef0=0.0,\n",
              "                           decision_function_shape='ovr', degree=3,\n",
              "                           gamma='scale', kernel='rbf', max_iter=-1,\n",
              "                           probability=True, random_state=None, shrinking=True,\n",
              "                           tol=0.001, verbose=False),\n",
              "             iid='deprecated', n_jobs=None,\n",
              "             param_grid=[{'C': [1, 10, 100, 1000], 'kernel': ['linear']},\n",
              "                         {'C': [1, 10, 100, 1000], 'gamma': [0.001, 0.0001],\n",
              "                          'kernel': ['rbf']}],\n",
              "             pre_dispatch='2*n_jobs', refit=True, return_train_score=False,\n",
              "             scoring=None, verbose=0)"
            ]
          },
          "metadata": {
            "tags": []
          },
          "execution_count": 11
        },
        {
          "output_type": "stream",
          "text": [
            "time: 33.9 s (started: 2021-05-22 17:12:48 +00:00)\n"
          ],
          "name": "stdout"
        }
      ]
    },
    {
      "cell_type": "code",
      "metadata": {
        "colab": {
          "base_uri": "https://localhost:8080/"
        },
        "id": "xA8QcztAafPY",
        "outputId": "1b62cd6e-edb8-4d12-a0e2-b80e48122d81"
      },
      "source": [
        "y_pred = clf.predict(x_test)\n",
        "y_pred"
      ],
      "execution_count": 12,
      "outputs": [
        {
          "output_type": "execute_result",
          "data": {
            "text/plain": [
              "array([0, 1, 1, 1, 1, 1, 1, 1, 1, 0, 0, 0, 0, 1, 0, 0, 1, 0])"
            ]
          },
          "metadata": {
            "tags": []
          },
          "execution_count": 12
        },
        {
          "output_type": "stream",
          "text": [
            "time: 74.5 ms (started: 2021-05-22 17:13:28 +00:00)\n"
          ],
          "name": "stdout"
        }
      ]
    },
    {
      "cell_type": "code",
      "metadata": {
        "colab": {
          "base_uri": "https://localhost:8080/"
        },
        "id": "e6R7yEmPasA1",
        "outputId": "8dfba634-81f8-46f2-eb6c-2ed615a0c469"
      },
      "source": [
        "y_test"
      ],
      "execution_count": 13,
      "outputs": [
        {
          "output_type": "execute_result",
          "data": {
            "text/plain": [
              "array([0, 1, 0, 1, 1, 1, 1, 0, 1, 0, 0, 0, 1, 1, 0, 0, 1, 0])"
            ]
          },
          "metadata": {
            "tags": []
          },
          "execution_count": 13
        },
        {
          "output_type": "stream",
          "text": [
            "time: 2.36 ms (started: 2021-05-22 17:13:30 +00:00)\n"
          ],
          "name": "stdout"
        }
      ]
    },
    {
      "cell_type": "code",
      "metadata": {
        "colab": {
          "base_uri": "https://localhost:8080/"
        },
        "id": "boVWlGJyawDX",
        "outputId": "239ad2f7-fa67-4436-d413-73972611fa1d"
      },
      "source": [
        "from sklearn.metrics import accuracy_score,confusion_matrix\n"
      ],
      "execution_count": 14,
      "outputs": [
        {
          "output_type": "stream",
          "text": [
            "time: 853 µs (started: 2021-05-22 17:13:33 +00:00)\n"
          ],
          "name": "stdout"
        }
      ]
    },
    {
      "cell_type": "code",
      "metadata": {
        "colab": {
          "base_uri": "https://localhost:8080/"
        },
        "id": "W5kgS10ya_H-",
        "outputId": "87c94167-51d3-4ccd-c00b-250cb27da290"
      },
      "source": [
        "accuracy_score(y_pred,y_test)"
      ],
      "execution_count": 15,
      "outputs": [
        {
          "output_type": "execute_result",
          "data": {
            "text/plain": [
              "0.8333333333333334"
            ]
          },
          "metadata": {
            "tags": []
          },
          "execution_count": 15
        },
        {
          "output_type": "stream",
          "text": [
            "time: 3.79 ms (started: 2021-05-22 17:13:36 +00:00)\n"
          ],
          "name": "stdout"
        }
      ]
    },
    {
      "cell_type": "code",
      "metadata": {
        "colab": {
          "base_uri": "https://localhost:8080/"
        },
        "id": "2lbbz0fIbOxs",
        "outputId": "327666f8-daa6-46a0-d094-82048f795c74"
      },
      "source": [
        "confusion_matrix(y_pred,y_test)\n"
      ],
      "execution_count": 16,
      "outputs": [
        {
          "output_type": "execute_result",
          "data": {
            "text/plain": [
              "array([[7, 1],\n",
              "       [2, 8]])"
            ]
          },
          "metadata": {
            "tags": []
          },
          "execution_count": 16
        },
        {
          "output_type": "stream",
          "text": [
            "time: 4.83 ms (started: 2021-05-22 17:13:46 +00:00)\n"
          ],
          "name": "stdout"
        }
      ]
    },
    {
      "cell_type": "code",
      "metadata": {
        "colab": {
          "base_uri": "https://localhost:8080/"
        },
        "id": "fAWvW_tCbcYV",
        "outputId": "2ddf1327-6e40-48a5-926b-f6b5f9f35217"
      },
      "source": [
        "import pickle\n",
        "pickle.dump(clf,open('img_model.p','wb'))\n"
      ],
      "execution_count": 17,
      "outputs": [
        {
          "output_type": "stream",
          "text": [
            "time: 23.4 ms (started: 2021-05-22 17:13:50 +00:00)\n"
          ],
          "name": "stdout"
        }
      ]
    },
    {
      "cell_type": "code",
      "metadata": {
        "colab": {
          "base_uri": "https://localhost:8080/"
        },
        "id": "z5pmcsp4c8Tg",
        "outputId": "4f7628a7-4f3a-46e8-8cae-04c946eaefb1"
      },
      "source": [
        "model = pickle.load(open('img_model.p','rb'))"
      ],
      "execution_count": 18,
      "outputs": [
        {
          "output_type": "stream",
          "text": [
            "time: 23.2 ms (started: 2021-05-22 17:13:53 +00:00)\n"
          ],
          "name": "stdout"
        }
      ]
    },
    {
      "cell_type": "code",
      "metadata": {
        "colab": {
          "base_uri": "https://localhost:8080/",
          "height": 337
        },
        "id": "dL8-3C4KdKsh",
        "outputId": "2242eadb-2a1c-411c-95cd-717b7cd0c2e9"
      },
      "source": [
        "flat_data=[]\n",
        "url = input('Enter your url')\n",
        "img = imread(url)\n",
        "img_resize = resize(img,(150,150,3))\n",
        "flat_data.append(img_resize.flatten())\n",
        "flat_data = np.array(flat_data)\n",
        "print(img.shape)\n",
        "plt.imshow(img_resize)\n",
        "y_out = model.predict(flat_data)\n",
        "y_out = categories[y_out[0]]\n",
        "print(f'Predicted output: {y_out}')\n"
      ],
      "execution_count": 22,
      "outputs": [
        {
          "output_type": "stream",
          "text": [
            "Enter your urlhttps://images.indianexpress.com/2020/07/leopard_759_abhishek-pagnis.jpeg\n",
            "(422, 759, 3)\n",
            "Predicted output: black panther animal\n"
          ],
          "name": "stdout"
        },
        {
          "output_type": "display_data",
          "data": {
            "image/png": "[encoded data removed]",
            "text/plain": [
              "<Figure size 432x288 with 1 Axes>"
            ]
          },
          "metadata": {
            "tags": [],
            "needs_background": "light"
          }
        },
        {
          "output_type": "stream",
          "text": [
            "time: 25.5 s (started: 2021-05-22 17:21:58 +00:00)\n"
          ],
          "name": "stdout"
        }
      ]
    }
  ]
}